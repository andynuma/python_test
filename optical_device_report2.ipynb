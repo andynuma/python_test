{
 "cells": [
  {
   "cell_type": "code",
   "execution_count": 184,
   "metadata": {},
   "outputs": [],
   "source": [
    "from math import *"
   ]
  },
  {
   "cell_type": "code",
   "execution_count": 185,
   "metadata": {},
   "outputs": [],
   "source": [
    "#k_0の設定\n",
    "def set_k_0(lamb):\n",
    "    return  2*pi / lamb"
   ]
  },
  {
   "cell_type": "code",
   "execution_count": 186,
   "metadata": {},
   "outputs": [],
   "source": [
    "#近似解\n",
    "def set_n_0(n_c , n_f , n_s , k_0 , T, m):\n",
    "    gamma_c = k_0 * sqrt(pow(n_f,2) - pow(n_c,2))\n",
    "    gamma_s = k_0 * sqrt(pow(n_f,2) - pow(n_s,2))\n",
    "    T_eff = T + 1/gamma_c + 1/ gamma_s\n",
    "    return  n_f - ((m+1)*pi / T_eff)/(2*k_0*n_f)\n",
    "    "
   ]
  },
  {
   "cell_type": "code",
   "execution_count": 187,
   "metadata": {},
   "outputs": [],
   "source": [
    "#超越方程式\n",
    "def f(N,k_x):\n",
    "    return (k_x*T - (m+1)*pi + atan(k_x / gamma_c) + atan(k_x / gamma_s) ) "
   ]
  },
  {
   "cell_type": "code",
   "execution_count": 188,
   "metadata": {},
   "outputs": [],
   "source": [
    "#接線の方程式\n",
    "def df(N):\n",
    "    return (((2*pi*T) / lamd)  *  (-N) / sqrt(n_f**2 - N**2) + (((-2*N)/(N**2 - n_c**2)) - ((2*N*(n_f**2 - N**2)) / (N**2 - n_c**2)))/(2*sqrt((n_f**2 - N**2) / (N**2 - n_c**2)) *((n_f**2 -N**2) / (N**2 - n_c**2))+1) + (((-2*N) / (N**2 - n_s**2)) - ((2*N*(n_f**2 - N**2)) / (N**2 - n_c**2))) / (2*sqrt((n_f**2 - N**2) / (N**2 - n_s**2)) *( (n_f**2 -N**2) / (N**2 - n_s**2)) + 1))\n",
    "\n",
    "    "
   ]
  },
  {
   "cell_type": "code",
   "execution_count": 189,
   "metadata": {},
   "outputs": [],
   "source": [
    "#k_x\n",
    "def set_k_x(k_0,n_f,N):\n",
    "    return (k_0,* sqrt(n_f**2 - N**2))"
   ]
  },
  {
   "cell_type": "code",
   "execution_count": 190,
   "metadata": {},
   "outputs": [],
   "source": [
    "#gamma_c\n",
    "def set_gamma_c(k_0,n_f,n_c):\n",
    "    return k_0 * sqrt(n_f**2 - n_c**2)\n",
    "\n",
    "#gamma_s\n",
    "def set_gamma_s(k_0,n_f,n_s):\n",
    "    return k_0 * sqrt(n_f**2 -n_s**2)"
   ]
  },
  {
   "cell_type": "code",
   "execution_count": 191,
   "metadata": {},
   "outputs": [],
   "source": [
    "#ニュートン法の更新式\n",
    "def newton_method(N_0,k_x):\n",
    "    N_1 = N_0 - (f(N_0,k_x) / df(N_0))\n",
    "    return N_1"
   ]
  },
  {
   "cell_type": "code",
   "execution_count": 192,
   "metadata": {},
   "outputs": [],
   "source": [
    "#値設定\n",
    "n_c = 1\n",
    "n_f = 1.517\n",
    "n_s = 1.512\n",
    "T = 10 * 0.000001\n",
    "lamb = 0.63 * 0.000001"
   ]
  },
  {
   "cell_type": "code",
   "execution_count": 193,
   "metadata": {},
   "outputs": [
    {
     "ename": "TypeError",
     "evalue": "'float' object is not iterable",
     "output_type": "error",
     "traceback": [
      "\u001b[0;31m---------------------------------------------------------------------------\u001b[0m",
      "\u001b[0;31mTypeError\u001b[0m                                 Traceback (most recent call last)",
      "\u001b[0;32m<ipython-input-193-e3f0b5a87e6d>\u001b[0m in \u001b[0;36m<module>\u001b[0;34m()\u001b[0m\n\u001b[1;32m     11\u001b[0m \u001b[0mgamma_s\u001b[0m \u001b[0;34m=\u001b[0m \u001b[0mset_gamma_s\u001b[0m\u001b[0;34m(\u001b[0m\u001b[0mk_0\u001b[0m\u001b[0;34m,\u001b[0m\u001b[0mn_f\u001b[0m\u001b[0;34m,\u001b[0m\u001b[0mn_s\u001b[0m\u001b[0;34m)\u001b[0m\u001b[0;34m\u001b[0m\u001b[0m\n\u001b[1;32m     12\u001b[0m \u001b[0;31m#k_x\u001b[0m\u001b[0;34m\u001b[0m\u001b[0;34m\u001b[0m\u001b[0m\n\u001b[0;32m---> 13\u001b[0;31m \u001b[0mk_x\u001b[0m \u001b[0;34m=\u001b[0m \u001b[0mset_k_x\u001b[0m\u001b[0;34m(\u001b[0m\u001b[0mk_0\u001b[0m\u001b[0;34m,\u001b[0m\u001b[0mn_f\u001b[0m\u001b[0;34m,\u001b[0m\u001b[0mn_0\u001b[0m\u001b[0;34m)\u001b[0m \u001b[0;31m#Nが定義できないことはなかった、n_0 = Nだっ\u001b[0m\u001b[0;34m\u001b[0m\u001b[0m\n\u001b[0m",
      "\u001b[0;32m<ipython-input-189-b9c59ea88e5e>\u001b[0m in \u001b[0;36mset_k_x\u001b[0;34m(k_0, n_f, N)\u001b[0m\n\u001b[1;32m      1\u001b[0m \u001b[0;31m#k_x\u001b[0m\u001b[0;34m\u001b[0m\u001b[0;34m\u001b[0m\u001b[0m\n\u001b[1;32m      2\u001b[0m \u001b[0;32mdef\u001b[0m \u001b[0mset_k_x\u001b[0m\u001b[0;34m(\u001b[0m\u001b[0mk_0\u001b[0m\u001b[0;34m,\u001b[0m\u001b[0mn_f\u001b[0m\u001b[0;34m,\u001b[0m\u001b[0mN\u001b[0m\u001b[0;34m)\u001b[0m\u001b[0;34m:\u001b[0m\u001b[0;34m\u001b[0m\u001b[0m\n\u001b[0;32m----> 3\u001b[0;31m     \u001b[0;32mreturn\u001b[0m \u001b[0;34m(\u001b[0m\u001b[0mk_0\u001b[0m\u001b[0;34m,\u001b[0m\u001b[0;34m*\u001b[0m \u001b[0msqrt\u001b[0m\u001b[0;34m(\u001b[0m\u001b[0mn_f\u001b[0m\u001b[0;34m**\u001b[0m\u001b[0;36m2\u001b[0m \u001b[0;34m-\u001b[0m \u001b[0mN\u001b[0m\u001b[0;34m**\u001b[0m\u001b[0;36m2\u001b[0m\u001b[0;34m)\u001b[0m\u001b[0;34m)\u001b[0m\u001b[0;34m\u001b[0m\u001b[0m\n\u001b[0m",
      "\u001b[0;31mTypeError\u001b[0m: 'float' object is not iterable"
     ]
    }
   ],
   "source": [
    "#初期値設定\n",
    "#k_0\n",
    "k_0 = set_k_0(0.00000086) \n",
    "#n_0\n",
    "n_0 = set_n_0(n_c , n_f , n_s , k_0 , T, 0) \n",
    "#T\n",
    "T = 0.000001\n",
    "#gamma_c\n",
    "gamma_c = set_gamma_c(k_0,n_f,n_s)\n",
    "#gamma_s\n",
    "gamma_s = set_gamma_s(k_0,n_f,n_s)\n",
    "#k_x\n",
    "k_x = set_k_x(k_0,n_f,n_0) #Nが定義できないことはなかった、n_0 = Nだっ"
   ]
  },
  {
   "cell_type": "code",
   "execution_count": 194,
   "metadata": {},
   "outputs": [
    {
     "data": {
      "text/plain": [
       "1.5043820594693371"
      ]
     },
     "execution_count": 194,
     "metadata": {},
     "output_type": "execute_result"
    }
   ],
   "source": [
    "n_0"
   ]
  },
  {
   "cell_type": "code",
   "execution_count": 178,
   "metadata": {},
   "outputs": [
    {
     "ename": "TypeError",
     "evalue": "unsupported operand type(s) for *: 'function' and 'float'",
     "output_type": "error",
     "traceback": [
      "\u001b[0;31m---------------------------------------------------------------------------\u001b[0m",
      "\u001b[0;31mTypeError\u001b[0m                                 Traceback (most recent call last)",
      "\u001b[0;32m<ipython-input-178-938ac8e00943>\u001b[0m in \u001b[0;36m<module>\u001b[0;34m()\u001b[0m\n\u001b[1;32m      1\u001b[0m \u001b[0mm\u001b[0m\u001b[0;34m=\u001b[0m\u001b[0;36m0\u001b[0m\u001b[0;34m\u001b[0m\u001b[0m\n\u001b[0;32m----> 2\u001b[0;31m \u001b[0mnewton_method\u001b[0m\u001b[0;34m(\u001b[0m\u001b[0mn_0\u001b[0m\u001b[0;34m,\u001b[0m\u001b[0mk_x\u001b[0m\u001b[0;34m)\u001b[0m\u001b[0;34m\u001b[0m\u001b[0m\n\u001b[0m",
      "\u001b[0;32m<ipython-input-174-54c5021a6070>\u001b[0m in \u001b[0;36mnewton_method\u001b[0;34m(N_0, k_x)\u001b[0m\n\u001b[1;32m      1\u001b[0m \u001b[0;31m#ニュートン法の更新式\u001b[0m\u001b[0;34m\u001b[0m\u001b[0;34m\u001b[0m\u001b[0m\n\u001b[1;32m      2\u001b[0m \u001b[0;32mdef\u001b[0m \u001b[0mnewton_method\u001b[0m\u001b[0;34m(\u001b[0m\u001b[0mN_0\u001b[0m\u001b[0;34m,\u001b[0m\u001b[0mk_x\u001b[0m\u001b[0;34m)\u001b[0m\u001b[0;34m:\u001b[0m\u001b[0;34m\u001b[0m\u001b[0m\n\u001b[0;32m----> 3\u001b[0;31m     \u001b[0mN_1\u001b[0m \u001b[0;34m=\u001b[0m \u001b[0mN_0\u001b[0m \u001b[0;34m-\u001b[0m \u001b[0;34m(\u001b[0m\u001b[0mf\u001b[0m\u001b[0;34m(\u001b[0m\u001b[0mN_0\u001b[0m\u001b[0;34m,\u001b[0m\u001b[0mk_x\u001b[0m\u001b[0;34m)\u001b[0m \u001b[0;34m/\u001b[0m \u001b[0mdf\u001b[0m\u001b[0;34m(\u001b[0m\u001b[0mN_0\u001b[0m\u001b[0;34m)\u001b[0m\u001b[0;34m)\u001b[0m\u001b[0;34m\u001b[0m\u001b[0m\n\u001b[0m\u001b[1;32m      4\u001b[0m     \u001b[0;32mreturn\u001b[0m \u001b[0mN_1\u001b[0m\u001b[0;34m\u001b[0m\u001b[0m\n",
      "\u001b[0;32m<ipython-input-170-d3a49b05ff16>\u001b[0m in \u001b[0;36mf\u001b[0;34m(N, k_x)\u001b[0m\n\u001b[1;32m      1\u001b[0m \u001b[0;31m#超越方程式\u001b[0m\u001b[0;34m\u001b[0m\u001b[0;34m\u001b[0m\u001b[0m\n\u001b[1;32m      2\u001b[0m \u001b[0;32mdef\u001b[0m \u001b[0mf\u001b[0m\u001b[0;34m(\u001b[0m\u001b[0mN\u001b[0m\u001b[0;34m,\u001b[0m\u001b[0mk_x\u001b[0m\u001b[0;34m)\u001b[0m\u001b[0;34m:\u001b[0m\u001b[0;34m\u001b[0m\u001b[0m\n\u001b[0;32m----> 3\u001b[0;31m     \u001b[0;32mreturn\u001b[0m \u001b[0;34m(\u001b[0m\u001b[0mk_x\u001b[0m\u001b[0;34m*\u001b[0m\u001b[0mT\u001b[0m \u001b[0;34m-\u001b[0m \u001b[0;34m(\u001b[0m\u001b[0mm\u001b[0m\u001b[0;34m+\u001b[0m\u001b[0;36m1\u001b[0m\u001b[0;34m)\u001b[0m\u001b[0;34m*\u001b[0m\u001b[0mpi\u001b[0m \u001b[0;34m+\u001b[0m \u001b[0matan\u001b[0m\u001b[0;34m(\u001b[0m\u001b[0mk_x\u001b[0m \u001b[0;34m/\u001b[0m \u001b[0mgamma_c\u001b[0m\u001b[0;34m)\u001b[0m \u001b[0;34m+\u001b[0m \u001b[0matan\u001b[0m\u001b[0;34m(\u001b[0m\u001b[0mk_x\u001b[0m \u001b[0;34m/\u001b[0m \u001b[0mgamma_s\u001b[0m\u001b[0;34m)\u001b[0m \u001b[0;34m)\u001b[0m\u001b[0;34m\u001b[0m\u001b[0m\n\u001b[0m",
      "\u001b[0;31mTypeError\u001b[0m: unsupported operand type(s) for *: 'function' and 'float'"
     ]
    }
   ],
   "source": [
    "m=0\n",
    "newton_method(n_0,k_x)\n"
   ]
  },
  {
   "cell_type": "code",
   "execution_count": null,
   "metadata": {},
   "outputs": [],
   "source": []
  }
 ],
 "metadata": {
  "kernelspec": {
   "display_name": "Python 3",
   "language": "python",
   "name": "python3"
  },
  "language_info": {
   "codemirror_mode": {
    "name": "ipython",
    "version": 3
   },
   "file_extension": ".py",
   "mimetype": "text/x-python",
   "name": "python",
   "nbconvert_exporter": "python",
   "pygments_lexer": "ipython3",
   "version": "3.6.4"
  }
 },
 "nbformat": 4,
 "nbformat_minor": 2
}
