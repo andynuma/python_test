{
 "cells": [
  {
   "cell_type": "code",
   "execution_count": 200,
   "metadata": {},
   "outputs": [],
   "source": [
    "from math import *\n",
    "#from numpy import *"
   ]
  },
  {
   "cell_type": "code",
   "execution_count": 201,
   "metadata": {},
   "outputs": [],
   "source": [
    "#k_0の設定\n",
    "def set_k_0(lamb):\n",
    "    return  2*pi / lamb"
   ]
  },
  {
   "cell_type": "code",
   "execution_count": 202,
   "metadata": {},
   "outputs": [],
   "source": [
    "#近似解\n",
    "def set_n_0(n_c , n_f , n_s , k_0 , T, m):\n",
    "    gamma_c = k_0 * sqrt(pow(n_f,2) - pow(n_c,2))\n",
    "    gamma_s = k_0 * sqrt(pow(n_f,2) - pow(n_s,2))\n",
    "    T_eff = T + 1/gamma_c + 1/ gamma_s\n",
    "    return  n_f - ((m+1)*pi / T_eff)/(2*k_0*n_f)\n",
    "    "
   ]
  },
  {
   "cell_type": "code",
   "execution_count": 203,
   "metadata": {},
   "outputs": [],
   "source": [
    "#超越方程式\n",
    "def f(N,k_x):\n",
    "    return (k_x*T - (m+1)*pi + atan(k_x / gamma_c) + atan(k_x / gamma_s) ) "
   ]
  },
  {
   "cell_type": "code",
   "execution_count": 204,
   "metadata": {},
   "outputs": [],
   "source": [
    "#接線の方程式\n",
    "def df(N):\n",
    "    return -N*T*k_0/sqrt(-N**2 + n_f**2) + (N*sqrt(-N**2 + n_f**2)/sqrt(N**2 - n_s**2) - N*sqrt(N**2 - n_s**2)/sqrt(-N**2 + n_f**2))/((-N**2 + n_f**2)*(N**2 - n_s**2) + 1) + (N*sqrt(-N**2 + n_f**2)/sqrt(N**2 - n_c**2) - N*sqrt(N**2 - n_c**2)/sqrt(-N**2 + n_f**2))/((-N**2 + n_f**2)*(N**2 - n_c**2) + 1)"
   ]
  },
  {
   "cell_type": "code",
   "execution_count": 205,
   "metadata": {},
   "outputs": [
    {
     "ename": "ValueError",
     "evalue": "math domain error",
     "output_type": "error",
     "traceback": [
      "\u001b[0;31m---------------------------------------------------------------------------\u001b[0m",
      "\u001b[0;31mValueError\u001b[0m                                Traceback (most recent call last)",
      "\u001b[0;32m<ipython-input-205-575b8e63e366>\u001b[0m in \u001b[0;36m<module>\u001b[0;34m()\u001b[0m\n\u001b[0;32m----> 1\u001b[0;31m \u001b[0msqrt\u001b[0m\u001b[0;34m(\u001b[0m\u001b[0mN\u001b[0m\u001b[0;34m**\u001b[0m\u001b[0;36m2\u001b[0m \u001b[0;34m-\u001b[0m \u001b[0mn_s\u001b[0m\u001b[0;34m**\u001b[0m\u001b[0;36m2\u001b[0m\u001b[0;34m)\u001b[0m\u001b[0;34m\u001b[0m\u001b[0m\n\u001b[0m",
      "\u001b[0;31mValueError\u001b[0m: math domain error"
     ]
    }
   ],
   "source": [
    "sqrt(N**2 - n_s**2)"
   ]
  },
  {
   "cell_type": "code",
   "execution_count": 206,
   "metadata": {},
   "outputs": [
    {
     "data": {
      "text/plain": [
       "2.272487624865553"
      ]
     },
     "execution_count": 206,
     "metadata": {},
     "output_type": "execute_result"
    }
   ],
   "source": [
    "N**2"
   ]
  },
  {
   "cell_type": "code",
   "execution_count": 207,
   "metadata": {},
   "outputs": [],
   "source": [
    "#k_x\n",
    "def set_k_x(k_0,n_f,N):\n",
    "    return (k_0* sqrt(n_f**2 - N**2))"
   ]
  },
  {
   "cell_type": "code",
   "execution_count": 208,
   "metadata": {},
   "outputs": [],
   "source": [
    "#gamma_c\n",
    "def set_gamma_c(k_0,n_f,n_c):\n",
    "    return k_0 * sqrt(n_f**2 - n_c**2)\n",
    "\n",
    "#gamma_s\n",
    "def set_gamma_s(k_0,n_f,n_s):\n",
    "    return k_0 * sqrt(n_f**2 -n_s**2)"
   ]
  },
  {
   "cell_type": "code",
   "execution_count": 209,
   "metadata": {},
   "outputs": [],
   "source": [
    "#ニュートン法の更新式\n",
    "def newton_method(N_0,k_x):\n",
    "    N_1 = N_0 - (f(N_0,k_x) / df(N_0))\n",
    "    return N_1"
   ]
  },
  {
   "cell_type": "code",
   "execution_count": 220,
   "metadata": {},
   "outputs": [],
   "source": [
    "#値設定\n",
    "micro = 1.0 * 10**(-6)\n",
    "n_c = 3.3\n",
    "n_f = 3.5\n",
    "n_s = 3.4\n",
    "T = 1 * micro\n",
    "lamd = 0.86 *micro"
   ]
  },
  {
   "cell_type": "code",
   "execution_count": 221,
   "metadata": {},
   "outputs": [],
   "source": [
    "#初期値設定\n",
    "#k_0\n",
    "k_0 = set_k_0(lamd) \n",
    "#n_0\n",
    "n_0 = set_n_0(n_c , n_f , n_s , k_0 , T, 0) \n",
    "#gamma_c\n",
    "gamma_c = set_gamma_c(k_0,n_f,n_s)\n",
    "#gamma_s\n",
    "gamma_s = set_gamma_s(k_0,n_f,n_s)\n",
    "#k_x\n",
    "k_x = set_k_x(k_0,n_f,n_0) "
   ]
  },
  {
   "cell_type": "code",
   "execution_count": 222,
   "metadata": {},
   "outputs": [
    {
     "data": {
      "text/plain": [
       "3.4520891745416007"
      ]
     },
     "execution_count": 222,
     "metadata": {},
     "output_type": "execute_result"
    }
   ],
   "source": [
    "n_0"
   ]
  },
  {
   "cell_type": "code",
   "execution_count": 223,
   "metadata": {},
   "outputs": [
    {
     "data": {
      "text/plain": [
       "2.289378019060079"
      ]
     },
     "execution_count": 223,
     "metadata": {},
     "output_type": "execute_result"
    }
   ],
   "source": [
    "m=0\n",
    "f(n_0,k_x)"
   ]
  },
  {
   "cell_type": "code",
   "execution_count": 224,
   "metadata": {},
   "outputs": [],
   "source": [
    "#mの設定\n",
    "m=0"
   ]
  },
  {
   "cell_type": "code",
   "execution_count": 225,
   "metadata": {},
   "outputs": [
    {
     "ename": "ValueError",
     "evalue": "math domain error",
     "output_type": "error",
     "traceback": [
      "\u001b[0;31m---------------------------------------------------------------------------\u001b[0m",
      "\u001b[0;31mValueError\u001b[0m                                Traceback (most recent call last)",
      "\u001b[0;32m<ipython-input-225-575b8e63e366>\u001b[0m in \u001b[0;36m<module>\u001b[0;34m()\u001b[0m\n\u001b[0;32m----> 1\u001b[0;31m \u001b[0msqrt\u001b[0m\u001b[0;34m(\u001b[0m\u001b[0mN\u001b[0m\u001b[0;34m**\u001b[0m\u001b[0;36m2\u001b[0m \u001b[0;34m-\u001b[0m \u001b[0mn_s\u001b[0m\u001b[0;34m**\u001b[0m\u001b[0;36m2\u001b[0m\u001b[0;34m)\u001b[0m\u001b[0;34m\u001b[0m\u001b[0m\n\u001b[0m",
      "\u001b[0;31mValueError\u001b[0m: math domain error"
     ]
    }
   ],
   "source": [
    "sqrt(N**2 - n_s**2)"
   ]
  },
  {
   "cell_type": "code",
   "execution_count": 226,
   "metadata": {},
   "outputs": [
    {
     "data": {
      "text/plain": [
       "11.91691966898731"
      ]
     },
     "execution_count": 226,
     "metadata": {},
     "output_type": "execute_result"
    }
   ],
   "source": [
    "N = n_0\n",
    "N**2\n",
    "#"
   ]
  },
  {
   "cell_type": "code",
   "execution_count": 227,
   "metadata": {},
   "outputs": [
    {
     "data": {
      "text/plain": [
       "11.559999999999999"
      ]
     },
     "execution_count": 227,
     "metadata": {},
     "output_type": "execute_result"
    }
   ],
   "source": [
    "n_s**2"
   ]
  },
  {
   "cell_type": "code",
   "execution_count": 228,
   "metadata": {},
   "outputs": [
    {
     "data": {
      "text/plain": [
       "0.3569196689873113"
      ]
     },
     "execution_count": 228,
     "metadata": {},
     "output_type": "execute_result"
    }
   ],
   "source": [
    "N**2 - n_s**2"
   ]
  },
  {
   "cell_type": "code",
   "execution_count": 229,
   "metadata": {},
   "outputs": [
    {
     "data": {
      "text/plain": [
       "-46.965694721129566"
      ]
     },
     "execution_count": 229,
     "metadata": {},
     "output_type": "execute_result"
    }
   ],
   "source": [
    "df(n_0)"
   ]
  },
  {
   "cell_type": "code",
   "execution_count": null,
   "metadata": {},
   "outputs": [],
   "source": []
  },
  {
   "cell_type": "code",
   "execution_count": null,
   "metadata": {},
   "outputs": [],
   "source": []
  }
 ],
 "metadata": {
  "kernelspec": {
   "display_name": "Python 3",
   "language": "python",
   "name": "python3"
  },
  "language_info": {
   "codemirror_mode": {
    "name": "ipython",
    "version": 3
   },
   "file_extension": ".py",
   "mimetype": "text/x-python",
   "name": "python",
   "nbconvert_exporter": "python",
   "pygments_lexer": "ipython3",
   "version": "3.6.4"
  }
 },
 "nbformat": 4,
 "nbformat_minor": 2
}
