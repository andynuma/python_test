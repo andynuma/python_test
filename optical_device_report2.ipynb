{
 "cells": [
  {
   "cell_type": "code",
   "execution_count": 977,
   "metadata": {},
   "outputs": [],
   "source": [
    "import math\n",
    "import sympy"
   ]
  },
  {
   "cell_type": "code",
   "execution_count": 978,
   "metadata": {},
   "outputs": [],
   "source": [
    "#k_0の設定\n",
    "def set_k_0(lamb):\n",
    "    return  (2*pi) / lamb\n",
    "\n",
    "#近似解\n",
    "def set_n_0(n_c , n_f , n_s , k_0 , T, m):\n",
    "    gamma_c = k_0 * (math.pow(n_f,2) - math.pow(n_c,2)) ** 0.5\n",
    "    gamma_s = k_0 * (math.pow(n_f,2) - math.pow(n_s,2)) ** 0.5\n",
    "    T_eff = T + 1/gamma_c + 1/ gamma_s\n",
    "    return  n_f - ((m+1)*pi / T_eff)/(2*k_0*n_f)\n",
    "\n",
    "#超越方程式\n",
    "def f(N,k_x,m):\n",
    "    return (k_x*T - (m+1)*pi + sympy.atan(k_x / gamma_c) + sympy.atan(k_x / gamma_s) ) \n",
    "\n",
    "#微分\n",
    "def df(N):\n",
    "    return -N*T*k_0*(-N**2 + n_f**2)**(-0.5) - N*(-N**2 + n_f**2)**(-0.5)*(-n_c**2 + n_f**2)**0.5/((-N**2 + n_f**2)*(-n_c**2 + n_f**2) + 1) - N*(-N**2 + n_f**2)**(-0.5)*(n_f**2 - n_s**2)**0.5/((-N**2 + n_f**2)*(n_f**2 - n_s**2) + 1)\n",
    "\n",
    "#k_x\n",
    "def set_k_x(k_0,n_f,N):\n",
    "    return (k_0* (n_f**2 - N**2)**0.5)\n",
    "\n",
    "#gamma_c\n",
    "def set_gamma_c(k_0,n_f,n_c):\n",
    "    return k_0 * ((n_f**2 - n_c**2)) ** 0.5\n",
    "\n",
    "#gamma_s\n",
    "def set_gamma_s(k_0,n_f,n_s):\n",
    "    return k_0 * ((n_f**2 -n_s**2)) ** 0.5\n",
    "\n",
    "#ニュートン法\n",
    "def newton_method(m,eps=1e-5):\n",
    "    #初期値\n",
    "    N_0 = set_n_0(n_c , n_f , n_s , k_0 , T, m) \n",
    "    while True: \n",
    "        #Nでk_xを更新\n",
    "        k_x = set_k_x(k_0,n_f,N_0) \n",
    "        N_1 = N_0 - (f(N_0,k_x,m) / df(N_0))\n",
    "        print(\"N_0:\",N_0,\"N_1:\",N_1)\n",
    "        if(abs(N_1 - N_0) < eps):\n",
    "            return N_1\n",
    "        N_0 = N_1"
   ]
  },
  {
   "cell_type": "code",
   "execution_count": 979,
   "metadata": {},
   "outputs": [],
   "source": [
    "#問題で与えられた値設定\n",
    "micro = 1e-6\n",
    "n_c = 3.3\n",
    "n_f = 3.5\n",
    "n_s = 3.4\n",
    "T = 1 #* micro\n",
    "lamd = 0.86 #*micro\n",
    "\n",
    "#初期値設定\n",
    "#k_0\n",
    "k_0 = set_k_0(lamd) \n",
    "#gamma_c\n",
    "gamma_c = set_gamma_c(k_0,n_f,n_s)\n",
    "#gamma_s\n",
    "gamma_s = set_gamma_s(k_0,n_f,n_s)\n",
    "#k_x\n",
    "k_x = set_k_x(k_0,n_f,n_0) "
   ]
  },
  {
   "cell_type": "code",
   "execution_count": 980,
   "metadata": {},
   "outputs": [
    {
     "name": "stdout",
     "output_type": "stream",
     "text": [
      "N_0: 3.4520891745416007 N_1: 3.49566182252819\n",
      "N_0: 3.49566182252819 N_1: 3.48781201948543\n",
      "N_0: 3.48781201948543 N_1: 3.48475545463671\n",
      "N_0: 3.48475545463671 N_1: 3.48466362347671\n",
      "N_0: 3.48466362347671 N_1: 3.48466644140919\n"
     ]
    },
    {
     "data": {
      "text/plain": [
       "3.48466644140919"
      ]
     },
     "execution_count": 980,
     "metadata": {},
     "output_type": "execute_result"
    }
   ],
   "source": [
    "#ニュートン法でNを求める\n",
    "result_n_0 = newton_method(0)\n",
    "result_n_0"
   ]
  },
  {
   "cell_type": "code",
   "execution_count": 981,
   "metadata": {},
   "outputs": [
    {
     "name": "stdout",
     "output_type": "stream",
     "text": [
      "N_0: 3.4041783490832014 N_1: 3.43820426980588\n",
      "N_0: 3.43820426980588 N_1: 3.43460401202425\n",
      "N_0: 3.43460401202425 N_1: 3.43458842995870\n",
      "N_0: 3.43458842995870 N_1: 3.43458860674657\n"
     ]
    },
    {
     "data": {
      "text/plain": [
       "3.43458860674657"
      ]
     },
     "execution_count": 981,
     "metadata": {},
     "output_type": "execute_result"
    }
   ],
   "source": [
    "#ニュートン法でNを求める\n",
    "result_n_1 = newton_method(1)\n",
    "result_n_1"
   ]
  },
  {
   "cell_type": "code",
   "execution_count": 982,
   "metadata": {},
   "outputs": [],
   "source": [
    "#E_c\n",
    "E_c = 1\n",
    "n_0 = result_n_0\n",
    "n_1 = result_n_1\n"
   ]
  },
  {
   "cell_type": "code",
   "execution_count": 983,
   "metadata": {},
   "outputs": [],
   "source": [
    "import matplotlib.pyplot as plt\n"
   ]
  },
  {
   "cell_type": "code",
   "execution_count": 984,
   "metadata": {},
   "outputs": [],
   "source": [
    "#E(x)のグラフ\n",
    "def E(x,N):\n",
    "    gamma_c = k_0 * ((N**2 - n_c**2))**0.5\n",
    "    gamma_s = k_0 * ((N**2 - n_s **2)) ** 0.5\n",
    "    k_x = k_0 * ((n_f**2 -N**2))**0.5\n",
    "\n",
    "    if (0 < x) : \n",
    "        return E_c * exp( - gamma_c * x)\n",
    "    elif (-T < x< 0) : \n",
    "        return E_c * (math.cos(k_x * x) - (gamma_c / k_x) *math.sin(k_x * x))\n",
    "    elif (x < - T) : \n",
    "        return E_c * (math.cos(k_x * T) +  (gamma_c / k_x) *math.sin(k_x * T)) * math.exp(gamma_s * (x + T))\n"
   ]
  },
  {
   "cell_type": "code",
   "execution_count": 985,
   "metadata": {},
   "outputs": [],
   "source": [
    "#グラフ用xに0.001刻みで値を生成する\n",
    "def frange(start, final, increment=0.001):\n",
    "    numbers = []\n",
    "\n",
    "    while start < final:\n",
    "        numbers.append(start)\n",
    "        start = start + increment\n",
    "    return numbers\n",
    "\n",
    "xs = frange(-2,2)"
   ]
  },
  {
   "cell_type": "code",
   "execution_count": 986,
   "metadata": {},
   "outputs": [],
   "source": [
    "#y\n",
    "y = []\n",
    "for i in range(len(xs)):\n",
    "    #print(E(xs[i],n_0))\n",
    "    y.append(E(xs[i],n_0))"
   ]
  },
  {
   "cell_type": "code",
   "execution_count": 987,
   "metadata": {},
   "outputs": [
    {
     "data": {
      "text/plain": [
       "[<matplotlib.lines.Line2D at 0x114236780>]"
      ]
     },
     "execution_count": 987,
     "metadata": {},
     "output_type": "execute_result"
    },
    {
     "data": {
      "image/png": "[encoded data removed]",
      "text/plain": [
       "<matplotlib.figure.Figure at 0x112738898>"
      ]
     },
     "metadata": {},
     "output_type": "display_data"
    }
   ],
   "source": [
    "#モード0\n",
    "plt.plot(xs,y)"
   ]
  },
  {
   "cell_type": "code",
   "execution_count": 990,
   "metadata": {},
   "outputs": [],
   "source": [
    "#y\n",
    "y2 = []\n",
    "for i in range(len(xs)):\n",
    "    y2.append(E(xs[i],n_1))"
   ]
  },
  {
   "cell_type": "code",
   "execution_count": 989,
   "metadata": {},
   "outputs": [
    {
     "data": {
      "text/plain": [
       "[<matplotlib.lines.Line2D at 0x114592b38>]"
      ]
     },
     "execution_count": 989,
     "metadata": {},
     "output_type": "execute_result"
    },
    {
     "data": {
      "image/png": "[encoded data removed]",
      "text/plain": [
       "<matplotlib.figure.Figure at 0x114443a90>"
      ]
     },
     "metadata": {},
     "output_type": "display_data"
    }
   ],
   "source": [
    "#モード1\n",
    "plt.plot(xs,y2)"
   ]
  },
  {
   "cell_type": "code",
   "execution_count": null,
   "metadata": {},
   "outputs": [],
   "source": []
  },
  {
   "cell_type": "code",
   "execution_count": null,
   "metadata": {},
   "outputs": [],
   "source": []
  },
  {
   "cell_type": "code",
   "execution_count": null,
   "metadata": {},
   "outputs": [],
   "source": []
  }
 ],
 "metadata": {
  "kernelspec": {
   "display_name": "Python 3",
   "language": "python",
   "name": "python3"
  },
  "language_info": {
   "codemirror_mode": {
    "name": "ipython",
    "version": 3
   },
   "file_extension": ".py",
   "mimetype": "text/x-python",
   "name": "python",
   "nbconvert_exporter": "python",
   "pygments_lexer": "ipython3",
   "version": "3.6.4"
  }
 },
 "nbformat": 4,
 "nbformat_minor": 2
}
