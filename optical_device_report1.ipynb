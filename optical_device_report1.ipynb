{
 "cells": [
  {
   "cell_type": "code",
   "execution_count": 2,
   "metadata": {},
   "outputs": [],
   "source": [
    "import numpy as np\n",
    "from math import *http://localhost:8888/notebooks/optical_device_report1.ipynb#\n",
    "\n",
    "\n",
    "#初期値\n",
    "micro = 1.0 * 10**(-6)\n",
    "T = 1*micro\n",
    "n_c = 3.3\n",
    "n_f = 3.5\n",
    "n_s = 3.4\n",
    "lamb = 0.86 * micro\n",
    "\n",
    "def dispersion_relation_m(T,n_c,n_f,n_s,lamb):\n",
    "    return (2*pi*T*sqrt(pow(n_f,2)-pow(n_s,2))  -  lamb *atan(sqrt((pow(n_s,2)-pow(n_c,2)) / (pow(n_f,2)-pow(n_s,2))))  ) / (lamb * pi)\n",
    "\n",
    "\n",
    "#検算\n",
    "dispersion_relation_m(T,n_c,n_f,n_s,lamb)\n",
    "\n",
    "def dispersion_relation_t(n_c,n_f,n_s,lamb,m):\n",
    "    return  (lamb*(m*pi + atan(sqrt((pow(n_s,2)-pow(n_c,2)) / (pow(n_f,2)-pow(n_s,2)))))) / (2*pi*sqrt(pow(n_f,2) - pow(n_s,2)))\n",
    "\n",
    "#検算\n",
    "m = 0\n",
    "dispersion_relation_t(n_c,n_f,n_s,lamb,m)\n",
    "\n",
    "#検算\n",
    "m=1\n",
    "dispersion_relation_t(n_c,n_f,n_s,lamb,m)\n",
    "\n",
    "#よって範囲は1.2820315992991615e-07 < T < 6.458623281987232e-07"
   ]
  },
  {
   "cell_type": "code",
   "execution_count": null,
   "metadata": {},
   "outputs": [],
   "source": []
  },
  {
   "cell_type": "code",
   "execution_count": null,
   "metadata": {},
   "outputs": [],
   "source": []
  }
 ],
 "metadata": {
  "kernelspec": {
   "display_name": "Python 3",
   "language": "python",
   "name": "python3"
  },
  "language_info": {
   "codemirror_mode": {
    "name": "ipython",
    "version": 3
   },
   "file_extension": ".py",
   "mimetype": "text/x-python",
   "name": "python",
   "nbconvert_exporter": "python",
   "pygments_lexer": "ipython3",
   "version": "3.6.4"
  }
 },
 "nbformat": 4,
 "nbformat_minor": 2
}
